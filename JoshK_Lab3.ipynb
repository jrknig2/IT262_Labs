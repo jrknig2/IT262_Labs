{
  "nbformat": 4,
  "nbformat_minor": 0,
  "metadata": {
    "colab": {
      "name": "JoshK_Lab3.ipynb",
      "provenance": [],
      "collapsed_sections": [],
      "authorship_tag": "ABX9TyPxfAcOF9qx4RGv4WFs02U+",
      "include_colab_link": true
    },
    "kernelspec": {
      "name": "python3",
      "display_name": "Python 3"
    },
    "language_info": {
      "name": "python"
    }
  },
  "cells": [
    {
      "cell_type": "markdown",
      "metadata": {
        "id": "view-in-github",
        "colab_type": "text"
      },
      "source": [
        "<a href=\"https://colab.research.google.com/github/jrknig2/IT262_Labs/blob/main/JoshK_Lab3.ipynb\" target=\"_parent\"><img src=\"https://colab.research.google.com/assets/colab-badge.svg\" alt=\"Open In Colab\"/></a>"
      ]
    },
    {
      "cell_type": "code",
      "execution_count": null,
      "metadata": {
        "colab": {
          "base_uri": "https://localhost:8080/"
        },
        "id": "vKFMu_Xdr5Z_",
        "outputId": "cb756d62-e643-4a78-87c6-ecc3256abfcb"
      },
      "outputs": [
        {
          "output_type": "stream",
          "name": "stdout",
          "text": [
            "Empty DataFrame\n",
            "Columns: [Criteria, Weight, RatingA, RatingB, RatingC, ScoreA, ScoreB, ScoreC]\n",
            "Index: []\n",
            "                Criteria Weight RatingA RatingB RatingC ScoreA ScoreB ScoreC\n",
            "0                   Risk    NaN     NaN     NaN     NaN    NaN    NaN    NaN\n",
            "1                    ROI    NaN     NaN     NaN     NaN    NaN    NaN    NaN\n",
            "2  Customer Satisfcation    NaN     NaN     NaN     NaN    NaN    NaN    NaN\n",
            "3            Feasibility    NaN     NaN     NaN     NaN    NaN    NaN    NaN\n",
            "4    Strategic Alignment    NaN     NaN     NaN     NaN    NaN    NaN    NaN\n",
            "                Criteria  Weight RatingA RatingB RatingC ScoreA ScoreB ScoreC\n",
            "0                   Risk    0.04     NaN     NaN     NaN    NaN    NaN    NaN\n",
            "1                    ROI    0.18     NaN     NaN     NaN    NaN    NaN    NaN\n",
            "2  Customer Satisfcation    0.37     NaN     NaN     NaN    NaN    NaN    NaN\n",
            "3            Feasibility    0.12     NaN     NaN     NaN    NaN    NaN    NaN\n",
            "4    Strategic Alignment    0.29     NaN     NaN     NaN    NaN    NaN    NaN\n",
            "                Criteria  Weight  RatingA  ...  ScoreA  ScoreB ScoreC\n",
            "0                   Risk    0.04        4  ...    0.16     0.4   0.28\n",
            "1                    ROI    0.18        3  ...    0.54     0.9   0.54\n",
            "2  Customer Satisfcation    0.37        9  ...    3.33    1.48   2.59\n",
            "3            Feasibility    0.12        2  ...    0.24    0.84   0.36\n",
            "4    Strategic Alignment    0.29        8  ...    2.32    1.74   1.45\n",
            "\n",
            "[5 rows x 8 columns]\n",
            "The total score for A is 6.59 and for B is 5.36 and for C is 5.22\n",
            "\n"
          ]
        },
        {
          "output_type": "stream",
          "name": "stderr",
          "text": [
            "/usr/local/lib/python3.7/dist-packages/ipykernel_launcher.py:28: SettingWithCopyWarning: \n",
            "A value is trying to be set on a copy of a slice from a DataFrame\n",
            "\n",
            "See the caveats in the documentation: https://pandas.pydata.org/pandas-docs/stable/user_guide/indexing.html#returning-a-view-versus-a-copy\n",
            "/usr/local/lib/python3.7/dist-packages/ipykernel_launcher.py:29: SettingWithCopyWarning: \n",
            "A value is trying to be set on a copy of a slice from a DataFrame\n",
            "\n",
            "See the caveats in the documentation: https://pandas.pydata.org/pandas-docs/stable/user_guide/indexing.html#returning-a-view-versus-a-copy\n",
            "/usr/local/lib/python3.7/dist-packages/ipykernel_launcher.py:30: SettingWithCopyWarning: \n",
            "A value is trying to be set on a copy of a slice from a DataFrame\n",
            "\n",
            "See the caveats in the documentation: https://pandas.pydata.org/pandas-docs/stable/user_guide/indexing.html#returning-a-view-versus-a-copy\n"
          ]
        }
      ],
      "source": [
        "import pandas as pd\n",
        "import math\n",
        "\n",
        "#create a dataframe for our alternative analysis matrix\n",
        "AA=pd.DataFrame(columns=['Criteria', 'Weight', 'RatingA', 'RatingB', 'RatingC', 'ScoreA', 'ScoreB', 'ScoreC'])\n",
        "print(AA)\n",
        "\n",
        "# first step: add a list of criteria\n",
        "AA['Criteria']=['Risk', 'ROI', 'Customer Satisfcation', 'Feasibility', 'Strategic Alignment']\n",
        "print(AA)\n",
        "\n",
        "#second step: identify weights\n",
        "# weights show relative importance of each criterion\n",
        "# they must add up to 1 or 100 if you use percentages\n",
        "AA['Weight']=[0.04,0.18,0.37,.12,.29]\n",
        "print(AA)\n",
        "\n",
        "# step 3: rate each alternative across all criteria\n",
        "# choose a scale: 1-5 or 1-7 or 1-10\n",
        "# higher number: an alternative is doing better regarding a given criterion\n",
        "\n",
        "AA['RatingA']=[4,3,9,2,8]\n",
        "AA['RatingB']=[10,5,4,7,6]\n",
        "AA['RatingC']=[7,3,7,3,5]\n",
        "\n",
        "# step 4: calculate partial scores by multiplying weight * ratings\n",
        "for index, row in AA.iterrows():\n",
        "  AA['ScoreA'][index]=row['RatingA']*row['Weight']\n",
        "  AA['ScoreB'][index]=row['RatingB']*row['Weight']\n",
        "  AA['ScoreC'][index]=row['RatingC']*row['Weight']\n",
        "\n",
        "print(AA)\n",
        "\n",
        "# step 5: add partial scores to get the total scores\n",
        "# which solution is the winner? the one with the highest total score\n",
        "totalScoreA=0\n",
        "totalScoreB=0\n",
        "totalScoreC=0\n",
        "for index, row in AA.iterrows():\n",
        "  totalScoreA+=row['ScoreA']\n",
        "  totalScoreB+=row['ScoreB']\n",
        "  totalScoreC+=row['ScoreC']\n",
        "\n",
        "print('The total score for A is {:.2f} and for B is {:.2f} and for C is {:.2f}'.format(totalScoreA, totalScoreB, totalScoreC))\n",
        "print()"
      ]
    }
  ]
}