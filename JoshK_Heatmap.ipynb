{
  "nbformat": 4,
  "nbformat_minor": 0,
  "metadata": {
    "colab": {
      "name": "JoshK_Heatmap.ipynb",
      "provenance": [],
      "authorship_tag": "ABX9TyMEnpUOkYhZRDcfFHXhDuMY",
      "include_colab_link": true
    },
    "kernelspec": {
      "name": "python3",
      "display_name": "Python 3"
    },
    "language_info": {
      "name": "python"
    }
  },
  "cells": [
    {
      "cell_type": "markdown",
      "metadata": {
        "id": "view-in-github",
        "colab_type": "text"
      },
      "source": [
        "<a href=\"https://colab.research.google.com/github/jrknig2/IT262_Labs/blob/main/JoshK_Heatmap.ipynb\" target=\"_parent\"><img src=\"https://colab.research.google.com/assets/colab-badge.svg\" alt=\"Open In Colab\"/></a>"
      ]
    },
    {
      "cell_type": "code",
      "execution_count": 48,
      "metadata": {
        "colab": {
          "base_uri": "https://localhost:8080/",
          "height": 561
        },
        "id": "wV_nlw4rQxHQ",
        "outputId": "c7d528e6-ca6a-40eb-b552-7da70eb04e3a"
      },
      "outputs": [
        {
          "output_type": "stream",
          "name": "stdout",
          "text": [
            "likelihood  0.1  0.2  0.3  0.4  0.5\n",
            "impact                             \n",
            "2           NaN  0.4  NaN  NaN  NaN\n",
            "5           NaN  NaN  NaN  2.0  NaN\n",
            "8           0.8  NaN  NaN  NaN  NaN\n",
            "9           NaN  NaN  2.7  NaN  NaN\n",
            "10          NaN  NaN  NaN  NaN  5.0\n",
            "\n",
            "likelihood     0.1    0.2   0.3   0.4       0.5\n",
            "impact                                         \n",
            "2              NaN  users   NaN   NaN       NaN\n",
            "5              NaN    NaN   NaN  team       NaN\n",
            "8           budget    NaN   NaN   NaN       NaN\n",
            "9              NaN    NaN  time   NaN       NaN\n",
            "10             NaN    NaN   NaN   NaN  security\n",
            "\n"
          ]
        },
        {
          "output_type": "display_data",
          "data": {
            "image/png": "[encoded data removed]",
            "text/plain": [
              "<Figure size 432x288 with 2 Axes>"
            ]
          },
          "metadata": {
            "needs_background": "light"
          }
        }
      ],
      "source": [
        "import seaborn as sns\n",
        "import pandas as pd\n",
        "import numpy as np\n",
        "\n",
        "# Create a dataframe (data table)\n",
        "df = pd.DataFrame(columns=['risk', 'likelihood', 'impact', 'score'])\n",
        "df['risk']=['users', 'team', 'budget', 'security', 'time']\n",
        "df['likelihood']=[0.2, 0.4, 0.1, 0.5, 0.3]\n",
        "df['impact']=[2, 5, 8, 10, 9]\n",
        "df['score']=df['impact']*df['likelihood']\n",
        "\n",
        "scoresPivot=df.pivot('impact', 'likelihood', 'score')\n",
        "print(scoresPivot)\n",
        "\n",
        "print()\n",
        "\n",
        "labelsPivot=df.pivot('impact', 'likelihood', 'risk')\n",
        "print(labelsPivot)\n",
        "\n",
        "print()\n",
        "\n",
        "# Simple heatmap\n",
        "p1=sns.heatmap(scoresPivot, cmap=\"Oranges\", annot=labelsPivot, fmt='')\n"
      ]
    }
  ]
}